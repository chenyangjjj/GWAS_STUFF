{
 "cells": [
  {
   "cell_type": "code",
   "execution_count": null,
   "metadata": {},
   "outputs": [],
   "source": [
    "import pandas as pd\n",
    "import gwaslab as gl"
   ]
  },
  {
   "attachments": {},
   "cell_type": "markdown",
   "metadata": {},
   "source": [
    "### Carlos 2021"
   ]
  },
  {
   "cell_type": "code",
   "execution_count": 99,
   "metadata": {},
   "outputs": [
    {
     "name": "stderr",
     "output_type": "stream",
     "text": [
      "/var/folders/m0/0qgd1d6d2tb22y295bf9qnmm0000gn/T/ipykernel_16161/2819878027.py:2: DtypeWarning: Columns (19) have mixed types. Specify dtype option on import or set low_memory=False.\n",
      "  data_Carlos_2021 = pd.read_csv('/Users/jiangxiaofan/Desktop/Alzheimentrum/Lianne/pQTL_Novelty_check/GWAS_database/inputs2/data_Carlos_2021.csv')\n",
      "/var/folders/m0/0qgd1d6d2tb22y295bf9qnmm0000gn/T/ipykernel_16161/2819878027.py:5: SettingWithCopyWarning: \n",
      "A value is trying to be set on a copy of a slice from a DataFrame.\n",
      "Try using .loc[row_indexer,col_indexer] = value instead\n",
      "\n",
      "See the caveats in the documentation: https://pandas.pydata.org/pandas-docs/stable/user_guide/indexing.html#returning-a-view-versus-a-copy\n",
      "  data_Carlos_Hg19['SNP'] = data_Carlos_Hg19['chr'].astype(str) + \":\" + data_Carlos_Hg19['end'].astype(str) + \":\" + data_Carlos_Hg19['refAllele'].astype(str) + \":\" + data_Carlos_Hg19['altAllele'].astype(str)\n"
     ]
    }
   ],
   "source": [
    "# Read the CSV file\n",
    "data_Carlos_2021 = pd.read_csv('/Users/jiangxiaofan/Desktop/Alzheimentrum/Lianne/pQTL_Novelty_check/GWAS_database/inputs2/data_Carlos_2021.csv')\n",
    "# Select the required columns\n",
    "data_Carlos_Hg19 = data_Carlos_2021[['chr', 'start', 'end', 'TargetName', 'pQTL_affectGene', 'p_value',\"refAllele\",\"altAllele\"]]\n",
    "data_Carlos_Hg19['SNP'] = data_Carlos_Hg19['chr'].astype(str) + \":\" + data_Carlos_Hg19['end'].astype(str) + \":\" + data_Carlos_Hg19['refAllele'].astype(str) + \":\" + data_Carlos_Hg19['altAllele'].astype(str)\n",
    "# Rename the columns\n",
    "data_Carlos_Hg19 = data_Carlos_Hg19[[\"chr\", \"start\", \"end\", \"SNP\", \"TargetName\", \"pQTL_affectGene\", \"p_value\",\"refAllele\",\"altAllele\"]]\n",
    "data_Carlos_Hg19.columns = [\"CHR\", \"Start\", \"BP\", \"SNP\", \"Protein\", \"Gene\", \"P_value\",\"refAllele\",\"altAllele\"]\n",
    "data_Carlos_Hg19 = data_Carlos_Hg19.drop_duplicates(subset='SNP')"
   ]
  },
  {
   "cell_type": "code",
   "execution_count": 101,
   "metadata": {},
   "outputs": [
    {
     "name": "stdout",
     "output_type": "stream",
     "text": [
      "(28067, 9)\n",
      "(28034, 11)\n"
     ]
    }
   ],
   "source": [
    "print(data_Carlos_Hg19.shape)\n",
    "\n",
    "print(data_Carlos2021_Hg19_gl.data.shape)"
   ]
  },
  {
   "cell_type": "code",
   "execution_count": null,
   "metadata": {},
   "outputs": [],
   "source": [
    "# infer rsid Hg19; and liftover\n",
    "\n",
    "data_Carlos2021_Hg19_gl = gl.Sumstats(data_Carlos_Hg19,chrom=\"CHR\",pos=\"BP\",snpid=\"SNP\",ea=\"altAllele\",nea= \"refAllele\",\n",
    "                                      other = [\"Start\",\"Protein\",\"Gene\",\"P_value\"])\n",
    "data_Carlos2021_Hg19_gl.fix_id(fixchrpos=True,\n",
    "                fixid=True,\n",
    "                fixsep=True,\n",
    "                forcefixid=True,\n",
    "                overwrite=True)\n",
    "\n",
    "data_Carlos2021_Hg19_gl.harmonize(\n",
    "                     basic_check=True,\n",
    "                     ref_seq     = \"/Users/jiangxiaofan/.gwaslab/human_g1k_v37.fasta\")\n",
    "\n",
    "data_Carlos2021_Hg19_gl.basic_check()\n",
    "\n",
    "data_Carlos2021_Hg19_gl.assign_rsid( \n",
    "                        ref_rsid_vcf = \"/Users/jiangxiaofan/.gwaslab/GCF_000001405.25.gz\",\n",
    "                        chr_dict = gl.get_number_to_NC(build=\"19\"),\n",
    "                        n_cores = 4)\n",
    "\n",
    "data_Carlos2021_Hg19_gl.liftover(n_cores=6,from_build=\"19\",to_build=\"38\",remove=False)"
   ]
  },
  {
   "cell_type": "code",
   "execution_count": null,
   "metadata": {},
   "outputs": [],
   "source": [
    "data_Carlos2021_Hg19_gl.data.head()\n",
    "data_Carlos2021_Hg19_DF = data_Carlos2021_Hg19_gl.data\n",
    "data_Carlos_2021 = data_Carlos2021_Hg19_DF[['CHR','POS','rsID','Protein',\"Gene\",'P_value']]\n",
    "data_Carlos_2021['Start'] = data_Carlos_2021['POS'] - 1\n",
    "data_Carlos_2021 = data_Carlos_2021[['CHR','Start','POS','rsID','Protein',\"Gene\",'P_value']]\n",
    "data_Carlos_2021.columns = [\"CHR\", \"Start\", \"End\", \"SNP\", \"Protein\", \"Gene\", \"P_value\"]\n",
    "\n",
    "data_Carlos_2021['study'] = 'Carlos_2021'\n",
    "data_Carlos_2021.head()\n"
   ]
  },
  {
   "attachments": {},
   "cell_type": "markdown",
   "metadata": {},
   "source": [
    "### Carlos 2023"
   ]
  },
  {
   "cell_type": "code",
   "execution_count": 107,
   "metadata": {},
   "outputs": [
    {
     "data": {
      "text/html": [
       "<div>\n",
       "<style scoped>\n",
       "    .dataframe tbody tr th:only-of-type {\n",
       "        vertical-align: middle;\n",
       "    }\n",
       "\n",
       "    .dataframe tbody tr th {\n",
       "        vertical-align: top;\n",
       "    }\n",
       "\n",
       "    .dataframe thead th {\n",
       "        text-align: right;\n",
       "    }\n",
       "</style>\n",
       "<table border=\"1\" class=\"dataframe\">\n",
       "  <thead>\n",
       "    <tr style=\"text-align: right;\">\n",
       "      <th></th>\n",
       "      <th>CHR</th>\n",
       "      <th>Start</th>\n",
       "      <th>End</th>\n",
       "      <th>SNP</th>\n",
       "      <th>Protein</th>\n",
       "      <th>Gene</th>\n",
       "      <th>P_value</th>\n",
       "      <th>study</th>\n",
       "    </tr>\n",
       "  </thead>\n",
       "  <tbody>\n",
       "    <tr>\n",
       "      <th>1081</th>\n",
       "      <td>1</td>\n",
       "      <td>12006160</td>\n",
       "      <td>12006161</td>\n",
       "      <td>rs3830887</td>\n",
       "      <td>Tumor necrosis factor receptor superfamily mem...</td>\n",
       "      <td>MFN2</td>\n",
       "      <td>1.258925e-36</td>\n",
       "      <td>Carlos_2023</td>\n",
       "    </tr>\n",
       "  </tbody>\n",
       "</table>\n",
       "</div>"
      ],
      "text/plain": [
       "      CHR     Start       End        SNP  \\\n",
       "1081    1  12006160  12006161  rs3830887   \n",
       "\n",
       "                                                Protein  Gene       P_value  \\\n",
       "1081  Tumor necrosis factor receptor superfamily mem...  MFN2  1.258925e-36   \n",
       "\n",
       "            study  \n",
       "1081  Carlos_2023  "
      ]
     },
     "execution_count": 107,
     "metadata": {},
     "output_type": "execute_result"
    }
   ],
   "source": [
    "data_Carlos_2023 = pd.read_csv('/Users/jiangxiaofan/Desktop/Alzheimentrum/Lianne/pQTL_Novelty_check/GWAS_database/inputs2/data_Carlos_2023.csv')\n",
    "data_Carlos_2023 = data_Carlos_2023[['CHR', 'BP','rsID', 'target', \"affected_gene\",'log(P)']]\n",
    "data_Carlos_2023['Start'] = data_Carlos_2023['BP'] - 1\n",
    "data_Carlos_2023 = data_Carlos_2023[['CHR', 'Start', 'BP','rsID', 'target', \"affected_gene\",'log(P)']]\n",
    "data_Carlos_2023.columns = [\"CHR\", \"Start\", \"End\", \"SNP\", \"Protein\", \"Gene\", \"P_value\"]\n",
    "data_Carlos_2023[\"P_value\"] = 10 ** data_Carlos_2023['P_value'] # Exp, 10^()\n",
    "data_Carlos_2023['study'] = 'Carlos_2023'\n",
    "data_Carlos_2023.head(10)\n",
    "\n",
    "\n"
   ]
  },
  {
   "cell_type": "code",
   "execution_count": 115,
   "metadata": {},
   "outputs": [
    {
     "name": "stdout",
     "output_type": "stream",
     "text": [
      "              MarkerName Allele1 Allele2  Effect  StdErr  log(P) Direction  \\\n",
      "1081  chr1:12006161:T:TA       t      ta -0.2863  0.0226   -35.9        --   \n",
      "\n",
      "      HetISq  HetChiSq  HetDf  ...  pval_at_negative stanford_soma_beta  \\\n",
      "1081     0.0     0.641      1  ...      1.040000e-10          -0.655928   \n",
      "\n",
      "     stanford_soma_logp   drug_candidates  variant_consequence  \\\n",
      "1081            9.71169  DB08870;DB06324;       intron_variant   \n",
      "\n",
      "      variant_severity  affected_gene Unnamed: 36  Data Dictionary Unnamed: 38  \n",
      "1081          MODIFIER           MFN2         NaN              NaN         NaN  \n",
      "\n",
      "[1 rows x 39 columns]\n"
     ]
    }
   ],
   "source": [
    "data_Carlos_2023 = pd.read_csv('/Users/jiangxiaofan/Desktop/Alzheimentrum/Lianne/pQTL_Novelty_check/GWAS_database/inputs2/data_Carlos_2023.csv')\n",
    "\n",
    "x = data_Carlos_2023[data_Carlos_2023[\"rsID\"] == \"rs3830887\"]\n",
    "print(x)\n",
    "\n",
    "\n"
   ]
  },
  {
   "attachments": {},
   "cell_type": "markdown",
   "metadata": {},
   "source": [
    "### Hansson 2023"
   ]
  },
  {
   "cell_type": "code",
   "execution_count": null,
   "metadata": {},
   "outputs": [],
   "source": [
    "data_Hansson_2023 = pd.read_csv(\"/Users/jiangxiaofan/Desktop/Alzheimentrum/Lianne/pQTL_Novelty_check/GWAS_database/inputs2/data_Hansson_2023.csv\")\n",
    "split_ID = data_Hansson_2023['ID'].str.split(':', expand=True)\n",
    "data_Hansson_2023['CHR'] = split_ID[0]\n",
    "data_Hansson_2023['BP'] = split_ID[1]\n",
    "data_Hansson_2023['start'] = data_Hansson_2023['BP']\n",
    "data_Hansson2023_Hg19 = data_Hansson_2023[[\"CHR\", \"start\", \"BP\", \"rsId\", \"Protein\", \"Best_Gussed_Gene\", \"P\"]]\n",
    "data_Hansson2023_Hg19.columns = [\"CHR\", \"start\", \"BP\", \"SNP\", \"Protein\", \"Gene\", \"P_value\"]\n",
    "\n",
    "\n",
    "data_Hansson2023_Hg19_gl = gl.Sumstats(data_Hansson2023_Hg19,chrom=\"CHR\",pos=\"BP\",snpid=\"SNP\",\n",
    "                                       other = [\"start\",\"Protein\",\"Gene\",\"P_value\"])\n",
    "data_Hansson2023_Hg19_gl.basic_check()\n",
    "data_Hansson2023_gl_hg38 = data_Hansson2023_Hg19_gl\n",
    "data_Hansson2023_gl_hg38.liftover(n_cores=6,from_build=\"19\",to_build=\"38\",remove=False)\n",
    "data_Hansson2023_gl_hg38_DF = data_Hansson2023_gl_hg38.data     # get data.frame\n",
    "data_Hansson2023_gl_hg38_DF = data_Hansson2023_gl_hg38_DF[[\"CHR\", \"start\", \"POS\", \"SNPID\", \"Protein\", \"Gene\", \"P_value\"]]\n",
    "data_Hansson2023_gl_hg38_DF.columns = [\"CHR\", \"Start\", \"End\", \"SNP\", \"Protein\", \"Gene\", \"P_value\"]\n",
    "\n",
    "data_Hansson2023_gl_hg38_DF['Start'] = data_Hansson2023_gl_hg38_DF['End'] - 1\n",
    "data_Hansson2023_gl_hg38_DF['study'] = 'Hansson_2023'\n",
    "\n",
    "data_Hansson2023_gl_hg38_DF.head()\n"
   ]
  },
  {
   "attachments": {},
   "cell_type": "markdown",
   "metadata": {},
   "source": [
    "### data_Hong_2021 - only YKL 40"
   ]
  },
  {
   "cell_type": "code",
   "execution_count": null,
   "metadata": {},
   "outputs": [],
   "source": [
    "data_Hong_2021 = pd.read_csv(\"/Users/jiangxiaofan/Desktop/Alzheimentrum/Lianne/pQTL_Novelty_check/GWAS_database/inputs2/data_Hong_2021.csv\")\n",
    "data_Hong_2021['Start'] = data_Hong_2021['pos'] - 1\n",
    "data_Hong_2021['Protein'] = 'YKL-40'\n",
    "data_Hong_2021 = data_Hong_2021[[\"chr\",\"Start\",\"pos\", \"ID\", \"Protein\", \"nearestGene\", \"PVALUE (SNP)\"]]\n",
    "data_Hong_2021.columns = [\"CHR\", \"Start\", \"BP\", \"SNP\", \"Protein\", \"Gene\", \"P_value\"]\n",
    "\n",
    "\n",
    "data_Hong_2021_Hg19_gl = gl.Sumstats(data_Hong_2021,chrom=\"CHR\",pos=\"BP\",snpid=\"SNP\",\n",
    "                                       other = [\"Start\",\"Protein\",\"Gene\",\"P_value\"])\n",
    "data_Hong_2021_Hg19_gl.basic_check()\n",
    "data_Hong_2021_gl_hg38 = data_Hong_2021_Hg19_gl\n",
    "data_Hong_2021_gl_hg38.liftover(n_cores=6,from_build=\"19\",to_build=\"38\",remove=False)\n",
    "data_Hong_2021_gl_hg38_DF = data_Hong_2021_gl_hg38.data     # get data.frame\n",
    "data_Hong_2021_gl_hg38_DF = data_Hong_2021_gl_hg38_DF[[\"CHR\", \"Start\", \"POS\", \"SNPID\", \"Protein\", \"Gene\", \"P_value\"]]\n",
    "data_Hong_2021_gl_hg38_DF.columns = [\"CHR\", \"Start\", \"End\", \"SNP\", \"Protein\", \"Gene\", \"P_value\"]\n",
    "\n",
    "data_Hong_2021_gl_hg38_DF['Start'] = data_Hong_2021_gl_hg38_DF['End'] - 1 \n",
    "\n",
    "data_Hong_2021_gl_hg38_DF['study'] = 'Hong_2021'\n",
    "\n",
    "data_Hong_2021_gl_hg38_DF.head()\n"
   ]
  },
  {
   "attachments": {},
   "cell_type": "markdown",
   "metadata": {},
   "source": [
    "### data_Kauwe_2014"
   ]
  },
  {
   "cell_type": "code",
   "execution_count": null,
   "metadata": {},
   "outputs": [],
   "source": [
    "\n",
    "data_Kauwe_2014 = pd.read_csv(\"/Users/jiangxiaofan/Desktop/Alzheimentrum/Lianne/pQTL_Novelty_check/GWAS_database/inputs2/data_Kauwe_2014.csv\")\n",
    "data_Kauwe_2014['Start'] = data_Kauwe_2014['BP'] - 1\n",
    "data_Kauwe_2014 = data_Kauwe_2014[[\"CHR\",\"Start\",\"BP\", \"SNP\", \"Phenotype\", \"Gene\", \"P-value\"]]\n",
    "data_Kauwe_2014.columns = [\"CHR\", \"Start\", \"BP\", \"SNP\", \"Protein\", \"Gene\", \"P_value\"]\n",
    "\n",
    "\n",
    "data_Kauwe_2014_Hg19_gl = gl.Sumstats(data_Kauwe_2014,chrom=\"CHR\",pos=\"BP\",snpid=\"SNP\",\n",
    "                                       other = [\"Start\",\"Protein\",\"Gene\",\"P_value\"])\n",
    "data_Kauwe_2014_Hg19_gl.basic_check()\n",
    "data_Kauwe_gl_hg38 = data_Kauwe_2014_Hg19_gl\n",
    "data_Kauwe_gl_hg38.liftover(n_cores=6,from_build=\"19\",to_build=\"38\",remove=False)\n",
    "data_Kauwe_gl_hg38_DF = data_Kauwe_gl_hg38.data     # get data.frame\n",
    "data_Kauwe_gl_hg38_DF = data_Kauwe_gl_hg38_DF[[\"CHR\", \"Start\", \"POS\", \"SNPID\", \"Protein\", \"Gene\", \"P_value\"]]\n",
    "data_Kauwe_gl_hg38_DF['Start'] = data_Kauwe_gl_hg38_DF['POS'] - 1\n",
    "data_Kauwe_gl_hg38_DF.columns = [\"CHR\", \"Start\", \"End\", \"SNP\", \"Protein\", \"Gene\", \"P_value\"]\n",
    "\n",
    "\n",
    "data_Kauwe_gl_hg38_DF['study'] = 'Kauwe_2014'\n",
    "\n",
    "data_Kauwe_gl_hg38_DF.head()\n"
   ]
  },
  {
   "attachments": {},
   "cell_type": "markdown",
   "metadata": {},
   "source": [
    "### data_Sasayama 2017"
   ]
  },
  {
   "cell_type": "code",
   "execution_count": null,
   "metadata": {},
   "outputs": [],
   "source": [
    "data_Sasayama_2017 = pd.read_csv(\"/Users/jiangxiaofan/Desktop/Alzheimentrum/Lianne/pQTL_Novelty_check/GWAS_database/inputs2/data_Sasayama_2017.csv\")\n",
    "data_Sasayama_2017 = data_Sasayama_2017[[\"CHR\",\"BP\", \"SNP\", \"Name\", \"Entrez Gene Symbol\", \"Nominal P\"]]\n",
    "\n",
    "\n",
    "data_Sasayama_2017_Hg19_gl = gl.Sumstats(data_Sasayama_2017,chrom=\"CHR\",pos=\"BP\",snpid=\"SNP\",\n",
    "                                       other = [\"Name\",\"Entrez Gene Symbol\",\"Nominal P\"])\n",
    "\n",
    "data_Sasayama_2017_Hg19_gl.basic_check()\n",
    "data_Sasayama_2017_gl_hg38 = data_Sasayama_2017_Hg19_gl\n",
    "data_Sasayama_2017_gl_hg38.liftover(n_cores=6,from_build=\"19\",to_build=\"38\",remove=True)\n",
    "\n",
    "\n",
    "data_Sasayama_2017_gl_hg38_DF = data_Sasayama_2017_gl_hg38.data     # get data.frame\n",
    "\n",
    "data_Sasayama_2017_gl_hg38_DF = data_Sasayama_2017_gl_hg38_DF[[\"CHR\", \"POS\", \"SNPID\", \"Name\", \"Entrez Gene Symbol\", \"Nominal P\"]]\n",
    "data_Sasayama_2017_gl_hg38_DF['Start'] = data_Sasayama_2017_gl_hg38_DF['POS'] - 1\n",
    "\n",
    "data_Sasayama_2017_gl_hg38_DF = data_Sasayama_2017_gl_hg38_DF[[\"CHR\",\"Start\",\"POS\", \"SNPID\", \"Name\", \"Entrez Gene Symbol\", \"Nominal P\"]]\n",
    "\n",
    "data_Sasayama_2017_gl_hg38_DF.columns = [\"CHR\", \"Start\", \"End\", \"SNP\", \"Protein\", \"Gene\", \"P_value\"]\n",
    "\n",
    "\n",
    "data_Sasayama_2017_gl_hg38_DF['study'] = 'Sasayama_2017'\n",
    "data_Sasayama_2017_gl_hg38_DF.head()\n",
    "\n"
   ]
  },
  {
   "attachments": {},
   "cell_type": "markdown",
   "metadata": {},
   "source": [
    "##  Combine all results into one file\n"
   ]
  },
  {
   "cell_type": "code",
   "execution_count": null,
   "metadata": {},
   "outputs": [],
   "source": [
    "\n",
    "all_DF = [data_Carlos_2021,data_Carlos_2023,data_Hansson2023_gl_hg38_DF,data_Hong_2021_gl_hg38_DF,data_Kauwe_gl_hg38_DF,data_Sasayama_2017_gl_hg38_DF]\n",
    "all_DF_all = pd.concat(all_DF, ignore_index=True)\n",
    "all_DF_all.to_csv('/Users/jiangxiaofan/Desktop/Alzheimentrum/Lianne/pQTL_Novelty_check/all_DF_all_22Aug_2023.txt', sep='\\t',index=False)\n",
    "\n",
    "print(all_DF_all.shape)\n",
    "all_DF_all.head()"
   ]
  },
  {
   "cell_type": "code",
   "execution_count": null,
   "metadata": {},
   "outputs": [],
   "source": [
    "import pandas as pd\n",
    "import pybedtools\n",
    "from pybedtools import BedTool\n",
    "\n",
    "bed_lead = pd.read_table('/Users/jiangxiaofan/Desktop/Alzheimentrum/Lianne/pQTL_Novelty_check/TableS_indep_SNPs_Chenyang_2023-07-21.txt',sep='\\t')\n",
    "bed_gwas_catalog = BedTool('/Users/jiangxiaofan/Desktop/Alzheimentrum/Lianne/pQTL_Novelty_check/all_DF_all_22Aug_2023.txt')\n",
    "df_list = pd.DataFrame()\n",
    "\n",
    "for index, row in bed_lead.iterrows():\n",
    "        \n",
    "        snp = str(row['CHR']) + '\\t' + str(row['Start']) + '\\t' + str(row['End'])+ '\\t' + str(row['SNP']) + '\\t' + str(row['Protein'])+ '\\t' + str(row['gene']) + '\\t' + str(row['A1']+ '\\t' + str(row['NMISS']) + '\\t' + str(row['BETA'])+ '\\t' + str(row['pvalue']) + '\\t' + str(row['cis_trans']))\n",
    "        snp_bed = BedTool(snp,from_string = True)\n",
    "        nearby_snps = snp_bed.window(bed_gwas_catalog, w=1000000)\n",
    "        nearby_snps_DF = nearby_snps.to_dataframe()\n",
    "\n",
    "        if len(nearby_snps_DF) > 0 :\n",
    "                nearby_snps_DF.columns = list(range(1, 20))\n",
    "                df_list = df_list.append(nearby_snps_DF)"
   ]
  },
  {
   "cell_type": "code",
   "execution_count": null,
   "metadata": {},
   "outputs": [],
   "source": [
    "df_list.columns = ['CHR','Start','End','SNP','Protein','gene','A1','NMISS','BETA','pvalue','cis_trans','CHR.1', 'Start.1', 'End.1', 'SNP.1', 'Protein.1', 'Gene.1', 'P_value.1', 'study']\n",
    "df_list.to_csv('/Users/jiangxiaofan/Desktop/Alzheimentrum/Lianne/pQTL_Novelty_check/final/results_all_22August2023.txt',sep = '\\t',index = True)"
   ]
  },
  {
   "attachments": {},
   "cell_type": "markdown",
   "metadata": {},
   "source": [
    "### add uniprot ID"
   ]
  },
  {
   "cell_type": "code",
   "execution_count": 98,
   "metadata": {},
   "outputs": [],
   "source": [
    "df_list = pd.read_table('/Users/jiangxiaofan/Desktop/Alzheimentrum/Lianne/pQTL_Novelty_check/final/results_all_22August2023.txt',sep='\\t')\n",
    "df_list_NL = df_list[df_list[\"study.1\"] == \"Carlos_2021\"]\n",
    "\n",
    "\n",
    "data_Carlos_2021_uniprotID = pd.read_csv('/Users/jiangxiaofan/Desktop/Alzheimentrum/Lianne/pQTL_Novelty_check/GWAS_database/inputs2/data_Carlos_2021_uniprotID.csv')\n",
    "mapping_dict_Carlos_2021 = data_Carlos_2021_uniprotID.set_index('Target')['UniProt'].to_dict()\n",
    "df_list.loc[df_list[\"study.1\"] == \"Carlos_2021\",\"UniProt.ID\"] = df_list[df_list[\"study.1\"] == \"Carlos_2021\"]['Protein.1'].map(mapping_dict_Carlos_2021)\n",
    "\n",
    "data_Carlos_2023_uniprotID = pd.read_csv('/Users/jiangxiaofan/Desktop/Alzheimentrum/Lianne/pQTL_Novelty_check/GWAS_database/inputs2/data_Carlos_2023_uniprotID.csv')\n",
    "mapping_dict_Carlos_2023 = data_Carlos_2023_uniprotID.set_index('TargetFullName')['UniProt'].to_dict()\n",
    "df_list.loc[df_list[\"study.1\"] == \"Carlos_2023\",\"UniProt.ID\"] = df_list[df_list[\"study.1\"] == \"Carlos_2023\"]['Protein.1'].map(mapping_dict_Carlos_2023)\n",
    "\n",
    "\n",
    "data_Hansson_2023_uniprotID = pd.read_csv('/Users/jiangxiaofan/Desktop/Alzheimentrum/Lianne/pQTL_Novelty_check/GWAS_database/inputs2/data_Hansson_2023_uniprotID.csv')\n",
    "mapping_dict_Hansson_2023 = data_Hansson_2023_uniprotID.set_index('Protein')['Uniprot Entry'].to_dict()\n",
    "df_list.loc[df_list[\"study.1\"] == \"Hansson_2023\",\"UniProt.ID\"] = df_list[df_list[\"study.1\"] == \"Hansson_2023\"]['Protein.1'].map(mapping_dict_Hansson_2023)\n",
    "\n",
    "\n",
    "data_Hong_2021_uniprotID = pd.read_csv('/Users/jiangxiaofan/Desktop/Alzheimentrum/Lianne/pQTL_Novelty_check/GWAS_database/inputs2/data_Hong_2021_uniprotID.csv')\n",
    "mapping_dict_Hong_2021 = data_Hong_2021_uniprotID.set_index('protein')['uniprotID'].to_dict()\n",
    "df_list.loc[df_list[\"study.1\"] == \"Hong_2021\",\"UniProt.ID\"] = df_list[df_list[\"study.1\"] == \"Hong_2021\"]['Protein.1'].map(mapping_dict_Hong_2021)\n",
    "\n",
    "\n",
    "data_Kauwe_2014_uniprotID = pd.read_csv('/Users/jiangxiaofan/Desktop/Alzheimentrum/Lianne/pQTL_Novelty_check/GWAS_database/inputs2/data_Kauwe_2014_uniprotID.csv')\n",
    "mapping_dict_Kauwe_2014 = data_Kauwe_2014_uniprotID.set_index('protein')['uniprotID'].to_dict()\n",
    "df_list.loc[df_list[\"study.1\"] == \"Kauwe_2014\",\"UniProt.ID\"] = df_list[df_list[\"study.1\"] == \"Kauwe_2014\"]['Protein.1'].map(mapping_dict_Kauwe_2014)\n",
    "\n",
    "\n",
    "data_Sasayama_2017_uniprotID = pd.read_csv('/Users/jiangxiaofan/Desktop/Alzheimentrum/Lianne/pQTL_Novelty_check/GWAS_database/inputs2/data_Sasayama_2017_uniprotID.csv')\n",
    "mapping_dict_Sasayama_2017 = data_Sasayama_2017_uniprotID.set_index('Protein')['UniprotID'].to_dict()\n",
    "df_list.loc[df_list[\"study.1\"] == \"Sasayama_2017\",\"UniProt.ID\"] = df_list[df_list[\"study.1\"] == \"Sasayama_2017\"]['Protein.1'].map(mapping_dict_Sasayama_2017)\n",
    "\n",
    "\n",
    "# add Lianne uniprot column\n",
    "\n",
    "data_Lianne2023_uniprotID = pd.read_csv('/Users/jiangxiaofan/Desktop/Alzheimentrum/Lianne/pQTL_Novelty_check/GWAS_database/inputs2/data_Lianne_2023_uniprotID.csv')\n",
    "mapping_dict_Lianne2023 = data_Lianne2023_uniprotID.set_index('Protein')['uniprot'].to_dict()\n",
    "df_list[\"UniProt.ID.Lianne\"] = df_list['Protein'].map(mapping_dict_Lianne2023)\n",
    "\n",
    "df_list.to_csv('/Users/jiangxiaofan/Desktop/Alzheimentrum/Lianne/pQTL_Novelty_check/final/results_all_22August2023_uniprotID.txt',sep = '\\t',index = True)"
   ]
  }
 ],
 "metadata": {
  "kernelspec": {
   "display_name": "base",
   "language": "python",
   "name": "python3"
  },
  "language_info": {
   "codemirror_mode": {
    "name": "ipython",
    "version": 3
   },
   "file_extension": ".py",
   "mimetype": "text/x-python",
   "name": "python",
   "nbconvert_exporter": "python",
   "pygments_lexer": "ipython3",
   "version": "3.10.9"
  },
  "orig_nbformat": 4
 },
 "nbformat": 4,
 "nbformat_minor": 2
}
